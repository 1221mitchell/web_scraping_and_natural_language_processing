{
 "cells": [
  {
   "cell_type": "code",
   "execution_count": 71,
   "metadata": {},
   "outputs": [],
   "source": [
    "import pandas as pd\n",
    "import datetime as dt\n",
    "import time\n",
    "import requests\n",
    "import pandas as pd       \n",
    "from nltk.tokenize import sent_tokenize, word_tokenize, RegexpTokenizer\n",
    "from nltk.stem import WordNetLemmatizer\n",
    "from nltk.stem.porter import PorterStemmer\n",
    "from nltk.corpus import stopwords\n",
    "from nltk.sentiment.vader import SentimentIntensityAnalyzer\n",
    "import re  \n",
    "from sklearn.ensemble import GradientBoostingClassifier, AdaBoostClassifier, VotingClassifier\n",
    "from sklearn.tree import DecisionTreeClassifier\n",
    "from sklearn.datasets import make_classification\n",
    "from sklearn.linear_model import LogisticRegression\n",
    "from sklearn.metrics import confusion_matrix, plot_confusion_matrix\n",
    "import matplotlib.pyplot as plt\n",
    "import seaborn as sn\n",
    "from sklearn.model_selection import train_test_split, GridSearchCV\n",
    "from sklearn.pipeline import Pipeline\n",
    "from sklearn.naive_bayes import MultinomialNB\n",
    "from sklearn.linear_model import LogisticRegression\n",
    "from sklearn.metrics import confusion_matrix, plot_confusion_matrix\n",
    "from sklearn.svm import LinearSVC, SVC\n",
    "\n",
    "# Import CountVectorizer and TFIDFVectorizer from feature_extraction.text.\n",
    "from sklearn.feature_extraction.text import CountVectorizer, TfidfVectorizer\n"
   ]
  },
  {
   "cell_type": "code",
   "execution_count": null,
   "metadata": {},
   "outputs": [],
   "source": [
    "PROBLEM STATEMENT:"
   ]
  },
  {
   "cell_type": "markdown",
   "metadata": {},
   "source": [
    "Can we use natural language processing to determine if a post on reddit came from the ask science subreddit or the personal finance subreddit? What is the most accurate model for classifying a post?"
   ]
  },
  {
   "cell_type": "markdown",
   "metadata": {},
   "source": [
    "WHY IS THIS PROJECT IMPORTANT?"
   ]
  },
  {
   "cell_type": "markdown",
   "metadata": {},
   "source": [
    "This project demonstrates the ability for natural language processing and machine learning models to identify the subject and content of a post on social media. \n",
    "\n",
    "This process can be helpful for companies that would like to monitor social media to identify which topics are trending for a given focus group. \n",
    "\n",
    "This project helps show which machine learning tools may be most accurate when classifying a text based post. \n"
   ]
  },
  {
   "cell_type": "markdown",
   "metadata": {},
   "source": [
    "DATA COLLECTION:"
   ]
  },
  {
   "cell_type": "markdown",
   "metadata": {},
   "source": [
    "The function below is used for scraping data from reddit. This function uses the pushift API:"
   ]
  },
  {
   "cell_type": "code",
   "execution_count": 2,
   "metadata": {},
   "outputs": [],
   "source": [
    "def query_pushshift(subreddit, kind = 'submission', day_window = 7, n = 520):\n",
    "    SUBFIELDS = ['title', 'selftext', 'subreddit', 'created_utc', 'author', 'num_comments', 'score', 'is_self']\n",
    "    \n",
    "    # establish base url and stem\n",
    "    BASE_URL = f\"https://api.pushshift.io/reddit/search/{kind}\" # also known as the \"API endpoint\" \n",
    "    stem = f\"{BASE_URL}?subreddit={subreddit}&size=500\" # always pulling max of 500\n",
    "    \n",
    "    # instantiate empty list for temp storage\n",
    "    posts = []\n",
    "    \n",
    "    # implement for loop with `time.sleep(2)`\n",
    "    for i in range(1, n + 1):\n",
    "        URL = \"{}&after={}d\".format(stem, day_window * i)\n",
    "        print(\"Querying from: \" + URL)\n",
    "        response = requests.get(URL)\n",
    "        assert response.status_code == 200\n",
    "        mine = response.json()['data']\n",
    "        df = pd.DataFrame.from_dict(mine)\n",
    "        posts.append(df)\n",
    "        time.sleep(2)\n",
    "        full = pd.concat(posts, sort=False)\n",
    "    \n",
    "    # if submission\n",
    "    if kind == \"submission\":\n",
    "        # select desired columns\n",
    "        full = full[SUBFIELDS]\n",
    "        # drop duplicates\n",
    "        full.drop_duplicates(inplace = True)\n",
    "        # select `is_self` == True\n",
    "        full = full.loc[full['is_self'] == True]\n",
    "\n",
    "    # create `timestamp` column\n",
    "    full['timestamp'] = full[\"created_utc\"].map(dt.date.fromtimestamp)\n",
    "    \n",
    "    print(\"Query Complete!\")    \n",
    "    return full "
   ]
  },
  {
   "cell_type": "markdown",
   "metadata": {},
   "source": [
    "The code below is used to call my querying function and scrape data from the inputted subreddit. I have commented them out with # so that when this notebook is rerun it does not spend hours scrapping new data. When I did run these functions, I saved their outputs to a csv file so I could access the data I had scraped without redoing my query."
   ]
  },
  {
   "cell_type": "code",
   "execution_count": 3,
   "metadata": {
    "scrolled": true
   },
   "outputs": [],
   "source": [
    "#ask_science = query_pushshift(\"askscience\")"
   ]
  },
  {
   "cell_type": "code",
   "execution_count": 4,
   "metadata": {},
   "outputs": [],
   "source": [
    "#personal_finance = query_pushshift(\"personalfinance\")"
   ]
  },
  {
   "cell_type": "code",
   "execution_count": 5,
   "metadata": {},
   "outputs": [],
   "source": [
    "#ask_science.to_csv(\"ask_science.csv\")"
   ]
  },
  {
   "cell_type": "code",
   "execution_count": 6,
   "metadata": {},
   "outputs": [],
   "source": [
    "#personal_finance.to_csv(\"personal_finance.csv\")"
   ]
  },
  {
   "cell_type": "markdown",
   "metadata": {},
   "source": [
    "Below I am selecting just the first 15001 entries in each data set to use for my data analysis and model training. "
   ]
  },
  {
   "cell_type": "code",
   "execution_count": 7,
   "metadata": {},
   "outputs": [],
   "source": [
    "ask_science_df =pd.read_csv(\"ask_science.csv\").loc[0:15_00]"
   ]
  },
  {
   "cell_type": "code",
   "execution_count": 8,
   "metadata": {},
   "outputs": [],
   "source": [
    "personal_finance_df =pd.read_csv(\"personal_finance.csv\").loc[0:15000]"
   ]
  },
  {
   "cell_type": "code",
   "execution_count": null,
   "metadata": {},
   "outputs": [],
   "source": [
    "EDA AND CLEANING:"
   ]
  },
  {
   "cell_type": "markdown",
   "metadata": {},
   "source": [
    "Below I have printed out 5 rows of my new data frames from each subreddit that I scrapped. The first is from the personal finance subreddit. The second is from the ask science subreddit."
   ]
  },
  {
   "cell_type": "code",
   "execution_count": 10,
   "metadata": {},
   "outputs": [
    {
     "data": {
      "text/html": [
       "<div>\n",
       "<style scoped>\n",
       "    .dataframe tbody tr th:only-of-type {\n",
       "        vertical-align: middle;\n",
       "    }\n",
       "\n",
       "    .dataframe tbody tr th {\n",
       "        vertical-align: top;\n",
       "    }\n",
       "\n",
       "    .dataframe thead th {\n",
       "        text-align: right;\n",
       "    }\n",
       "</style>\n",
       "<table border=\"1\" class=\"dataframe\">\n",
       "  <thead>\n",
       "    <tr style=\"text-align: right;\">\n",
       "      <th></th>\n",
       "      <th>Unnamed: 0</th>\n",
       "      <th>title</th>\n",
       "      <th>selftext</th>\n",
       "      <th>subreddit</th>\n",
       "      <th>created_utc</th>\n",
       "      <th>author</th>\n",
       "      <th>num_comments</th>\n",
       "      <th>score</th>\n",
       "      <th>is_self</th>\n",
       "      <th>timestamp</th>\n",
       "    </tr>\n",
       "  </thead>\n",
       "  <tbody>\n",
       "    <tr>\n",
       "      <th>0</th>\n",
       "      <td>0</td>\n",
       "      <td>1couple 1single how to split rent?</td>\n",
       "      <td>I live in an apartment with one other flat mat...</td>\n",
       "      <td>personalfinance</td>\n",
       "      <td>1.611126e+09</td>\n",
       "      <td>ThenAcanthopterygii1</td>\n",
       "      <td>7</td>\n",
       "      <td>1</td>\n",
       "      <td>True</td>\n",
       "      <td>2021-01-19</td>\n",
       "    </tr>\n",
       "    <tr>\n",
       "      <th>1</th>\n",
       "      <td>1</td>\n",
       "      <td>The stock market isn’t only for the rich and i...</td>\n",
       "      <td>[removed]</td>\n",
       "      <td>personalfinance</td>\n",
       "      <td>1.611126e+09</td>\n",
       "      <td>nouseforaname888</td>\n",
       "      <td>1</td>\n",
       "      <td>1</td>\n",
       "      <td>True</td>\n",
       "      <td>2021-01-19</td>\n",
       "    </tr>\n",
       "    <tr>\n",
       "      <th>2</th>\n",
       "      <td>2</td>\n",
       "      <td>Employer failed to submit my updated tax paper...</td>\n",
       "      <td>I found out yesterday that back in February 20...</td>\n",
       "      <td>personalfinance</td>\n",
       "      <td>1.611128e+09</td>\n",
       "      <td>colbysandt</td>\n",
       "      <td>21</td>\n",
       "      <td>1</td>\n",
       "      <td>True</td>\n",
       "      <td>2021-01-19</td>\n",
       "    </tr>\n",
       "    <tr>\n",
       "      <th>3</th>\n",
       "      <td>3</td>\n",
       "      <td>Do I need to pay taxes on Instacart/Shipt earn...</td>\n",
       "      <td>First off, I don't need a lecture, but I forgo...</td>\n",
       "      <td>personalfinance</td>\n",
       "      <td>1.611128e+09</td>\n",
       "      <td>Objective_Elk1086</td>\n",
       "      <td>9</td>\n",
       "      <td>1</td>\n",
       "      <td>True</td>\n",
       "      <td>2021-01-19</td>\n",
       "    </tr>\n",
       "    <tr>\n",
       "      <th>4</th>\n",
       "      <td>4</td>\n",
       "      <td>TFSA Rules and questions-FOR A BEGINNER</td>\n",
       "      <td>Hello,\\n\\nLet's just say I'm a simple, working...</td>\n",
       "      <td>personalfinance</td>\n",
       "      <td>1.611128e+09</td>\n",
       "      <td>Books000009</td>\n",
       "      <td>4</td>\n",
       "      <td>1</td>\n",
       "      <td>True</td>\n",
       "      <td>2021-01-19</td>\n",
       "    </tr>\n",
       "  </tbody>\n",
       "</table>\n",
       "</div>"
      ],
      "text/plain": [
       "  Unnamed: 0                                              title  \\\n",
       "0          0                 1couple 1single how to split rent?   \n",
       "1          1  The stock market isn’t only for the rich and i...   \n",
       "2          2  Employer failed to submit my updated tax paper...   \n",
       "3          3  Do I need to pay taxes on Instacart/Shipt earn...   \n",
       "4          4            TFSA Rules and questions-FOR A BEGINNER   \n",
       "\n",
       "                                            selftext        subreddit  \\\n",
       "0  I live in an apartment with one other flat mat...  personalfinance   \n",
       "1                                          [removed]  personalfinance   \n",
       "2  I found out yesterday that back in February 20...  personalfinance   \n",
       "3  First off, I don't need a lecture, but I forgo...  personalfinance   \n",
       "4  Hello,\\n\\nLet's just say I'm a simple, working...  personalfinance   \n",
       "\n",
       "    created_utc                author num_comments score is_self   timestamp  \n",
       "0  1.611126e+09  ThenAcanthopterygii1            7     1    True  2021-01-19  \n",
       "1  1.611126e+09      nouseforaname888            1     1    True  2021-01-19  \n",
       "2  1.611128e+09            colbysandt           21     1    True  2021-01-19  \n",
       "3  1.611128e+09     Objective_Elk1086            9     1    True  2021-01-19  \n",
       "4  1.611128e+09           Books000009            4     1    True  2021-01-19  "
      ]
     },
     "execution_count": 10,
     "metadata": {},
     "output_type": "execute_result"
    }
   ],
   "source": [
    "personal_finance_df.head()"
   ]
  },
  {
   "cell_type": "code",
   "execution_count": 11,
   "metadata": {
    "scrolled": true
   },
   "outputs": [
    {
     "data": {
      "text/html": [
       "<div>\n",
       "<style scoped>\n",
       "    .dataframe tbody tr th:only-of-type {\n",
       "        vertical-align: middle;\n",
       "    }\n",
       "\n",
       "    .dataframe tbody tr th {\n",
       "        vertical-align: top;\n",
       "    }\n",
       "\n",
       "    .dataframe thead th {\n",
       "        text-align: right;\n",
       "    }\n",
       "</style>\n",
       "<table border=\"1\" class=\"dataframe\">\n",
       "  <thead>\n",
       "    <tr style=\"text-align: right;\">\n",
       "      <th></th>\n",
       "      <th>Unnamed: 0</th>\n",
       "      <th>title</th>\n",
       "      <th>selftext</th>\n",
       "      <th>subreddit</th>\n",
       "      <th>created_utc</th>\n",
       "      <th>author</th>\n",
       "      <th>num_comments</th>\n",
       "      <th>score</th>\n",
       "      <th>is_self</th>\n",
       "      <th>timestamp</th>\n",
       "    </tr>\n",
       "  </thead>\n",
       "  <tbody>\n",
       "    <tr>\n",
       "      <th>0</th>\n",
       "      <td>0</td>\n",
       "      <td>How hard is it to cultivate fibroblasts or oth...</td>\n",
       "      <td>[removed]</td>\n",
       "      <td>askscience</td>\n",
       "      <td>1611122557</td>\n",
       "      <td>inquilinekea</td>\n",
       "      <td>0</td>\n",
       "      <td>1</td>\n",
       "      <td>True</td>\n",
       "      <td>2021-01-19</td>\n",
       "    </tr>\n",
       "    <tr>\n",
       "      <th>1</th>\n",
       "      <td>1</td>\n",
       "      <td>Covid reinfection cases seem rare, but wheneve...</td>\n",
       "      <td>[removed]</td>\n",
       "      <td>askscience</td>\n",
       "      <td>1611122828</td>\n",
       "      <td>Past-Pianist</td>\n",
       "      <td>2</td>\n",
       "      <td>1</td>\n",
       "      <td>True</td>\n",
       "      <td>2021-01-19</td>\n",
       "    </tr>\n",
       "    <tr>\n",
       "      <th>2</th>\n",
       "      <td>2</td>\n",
       "      <td>What is the Best Way To Maintain Laptop?</td>\n",
       "      <td>[removed]</td>\n",
       "      <td>askscience</td>\n",
       "      <td>1611123161</td>\n",
       "      <td>4000Sjinfotechgroup</td>\n",
       "      <td>0</td>\n",
       "      <td>1</td>\n",
       "      <td>True</td>\n",
       "      <td>2021-01-19</td>\n",
       "    </tr>\n",
       "    <tr>\n",
       "      <th>3</th>\n",
       "      <td>3</td>\n",
       "      <td>Can a language be learned entirely through osm...</td>\n",
       "      <td>[removed]</td>\n",
       "      <td>askscience</td>\n",
       "      <td>1611123425</td>\n",
       "      <td>phreddfatt</td>\n",
       "      <td>0</td>\n",
       "      <td>1</td>\n",
       "      <td>True</td>\n",
       "      <td>2021-01-19</td>\n",
       "    </tr>\n",
       "    <tr>\n",
       "      <th>4</th>\n",
       "      <td>4</td>\n",
       "      <td>How would observers on earth experience lag to...</td>\n",
       "      <td>[removed]</td>\n",
       "      <td>askscience</td>\n",
       "      <td>1611123478</td>\n",
       "      <td>cornelliusvanderbilt</td>\n",
       "      <td>0</td>\n",
       "      <td>1</td>\n",
       "      <td>True</td>\n",
       "      <td>2021-01-19</td>\n",
       "    </tr>\n",
       "  </tbody>\n",
       "</table>\n",
       "</div>"
      ],
      "text/plain": [
       "   Unnamed: 0                                              title   selftext  \\\n",
       "0           0  How hard is it to cultivate fibroblasts or oth...  [removed]   \n",
       "1           1  Covid reinfection cases seem rare, but wheneve...  [removed]   \n",
       "2           2           What is the Best Way To Maintain Laptop?  [removed]   \n",
       "3           3  Can a language be learned entirely through osm...  [removed]   \n",
       "4           4  How would observers on earth experience lag to...  [removed]   \n",
       "\n",
       "    subreddit  created_utc                author  num_comments  score  \\\n",
       "0  askscience   1611122557          inquilinekea             0      1   \n",
       "1  askscience   1611122828          Past-Pianist             2      1   \n",
       "2  askscience   1611123161   4000Sjinfotechgroup             0      1   \n",
       "3  askscience   1611123425            phreddfatt             0      1   \n",
       "4  askscience   1611123478  cornelliusvanderbilt             0      1   \n",
       "\n",
       "   is_self   timestamp  \n",
       "0     True  2021-01-19  \n",
       "1     True  2021-01-19  \n",
       "2     True  2021-01-19  \n",
       "3     True  2021-01-19  \n",
       "4     True  2021-01-19  "
      ]
     },
     "execution_count": 11,
     "metadata": {},
     "output_type": "execute_result"
    }
   ],
   "source": [
    "ask_science_df.head()"
   ]
  },
  {
   "cell_type": "markdown",
   "metadata": {},
   "source": [
    "Below I am checking for null values in each data set. "
   ]
  },
  {
   "cell_type": "code",
   "execution_count": 12,
   "metadata": {
    "scrolled": true
   },
   "outputs": [
    {
     "data": {
      "text/plain": [
       "(Unnamed: 0        0\n",
       " title             0\n",
       " selftext        154\n",
       " subreddit         0\n",
       " created_utc       0\n",
       " author            0\n",
       " num_comments      0\n",
       " score             0\n",
       " is_self           0\n",
       " timestamp         0\n",
       " dtype: int64,\n",
       " Unnamed: 0        0\n",
       " title             0\n",
       " selftext        171\n",
       " subreddit         0\n",
       " created_utc       0\n",
       " author            0\n",
       " num_comments      0\n",
       " score             0\n",
       " is_self           0\n",
       " timestamp         0\n",
       " dtype: int64)"
      ]
     },
     "execution_count": 12,
     "metadata": {},
     "output_type": "execute_result"
    }
   ],
   "source": [
    "ask_science_df.isnull().sum(), personal_finance_df.isnull().sum()"
   ]
  },
  {
   "cell_type": "code",
   "execution_count": 13,
   "metadata": {},
   "outputs": [
    {
     "data": {
      "text/plain": [
       "(154, 171)"
      ]
     },
     "execution_count": 13,
     "metadata": {},
     "output_type": "execute_result"
    }
   ],
   "source": [
    "ask_science_df.isnull().sum().sum(), personal_finance_df.isnull().sum().sum()"
   ]
  },
  {
   "cell_type": "markdown",
   "metadata": {},
   "source": [
    "I then dropped all rows with null values"
   ]
  },
  {
   "cell_type": "code",
   "execution_count": 14,
   "metadata": {},
   "outputs": [],
   "source": [
    "ask_science_df = ask_science_df.dropna()\n",
    "personal_finance_df = personal_finance_df.dropna()"
   ]
  },
  {
   "cell_type": "markdown",
   "metadata": {},
   "source": [
    "Next I checked for most common values in my title and self text columns. This is to see if there are any troublsome entries that repeat and could get in the way of proper natural languae processing and prediction modeling. I found that \"removed\" and \"deleted\" was repeated in the data sets in self text."
   ]
  },
  {
   "cell_type": "code",
   "execution_count": 15,
   "metadata": {},
   "outputs": [],
   "source": [
    "from collections import Counter"
   ]
  },
  {
   "cell_type": "code",
   "execution_count": 16,
   "metadata": {},
   "outputs": [
    {
     "name": "stdout",
     "output_type": "stream",
     "text": [
      "['Ask Anything Wednesday - Physics, Astronomy, Earth and Planetary Science', 'Ask Anything Wednesday - Economics, Political Science, Linguistics, Anthropology']\n"
     ]
    }
   ],
   "source": [
    "most_common_words= [word for word, word_count in Counter(ask_science_df['title']).most_common(2)]\n",
    "print(most_common_words)\n",
    "#cite https://stackoverflow.com/questions/3594514/how-to-find-most-common-elements-of-a-list"
   ]
  },
  {
   "cell_type": "code",
   "execution_count": 17,
   "metadata": {},
   "outputs": [
    {
     "name": "stdout",
     "output_type": "stream",
     "text": [
      "['[removed]', '\\\\[removed\\\\]']\n"
     ]
    }
   ],
   "source": [
    "most_common_words= [word for word, word_count in Counter(ask_science_df['selftext']).most_common(2)]\n",
    "print(most_common_words)"
   ]
  },
  {
   "cell_type": "code",
   "execution_count": 18,
   "metadata": {},
   "outputs": [
    {
     "name": "stdout",
     "output_type": "stream",
     "text": [
      "['Should I buy a house?', 'How am I doing?']\n"
     ]
    }
   ],
   "source": [
    "most_common_words= [word for word, word_count in Counter(personal_finance_df['title']).most_common(2)]\n",
    "print(most_common_words)"
   ]
  },
  {
   "cell_type": "code",
   "execution_count": 19,
   "metadata": {},
   "outputs": [
    {
     "name": "stdout",
     "output_type": "stream",
     "text": [
      "['[removed]', '[deleted]']\n"
     ]
    }
   ],
   "source": [
    "most_common_words= [word for word, word_count in Counter(personal_finance_df['selftext']).most_common(2)]\n",
    "print(most_common_words)"
   ]
  },
  {
   "cell_type": "markdown",
   "metadata": {},
   "source": [
    "Next, I check how often \"removed\" is an input in the data sets for self text and for title. I find \"removed\" is the imput for the majority of the entries for self text in the ask science data frame.  I believe this is because in ask science the posts are phrased as a question which can be fully articulated in just the title of the reddit post. I will not be using the selftext feature in my analysis due to the findings here and will instead focus on classifying my entries based on the title text of the posts. "
   ]
  },
  {
   "cell_type": "code",
   "execution_count": 20,
   "metadata": {},
   "outputs": [
    {
     "name": "stdout",
     "output_type": "stream",
     "text": [
      "0\n"
     ]
    }
   ],
   "source": [
    "removed_text_counter  = 0\n",
    "for i in personal_finance_df.loc[personal_finance_df['title']=='[removed]'].index:\n",
    "    removed_text_counter  += 1\n",
    "print(removed_text_counter )\n",
    "    "
   ]
  },
  {
   "cell_type": "code",
   "execution_count": 21,
   "metadata": {},
   "outputs": [
    {
     "name": "stdout",
     "output_type": "stream",
     "text": [
      "1782\n"
     ]
    }
   ],
   "source": [
    "removed_text_counter  = 0\n",
    "for i in personal_finance_df.loc[personal_finance_df['selftext']=='[removed]'].index:\n",
    "    removed_text_counter  += 1\n",
    "print(removed_text_counter )"
   ]
  },
  {
   "cell_type": "code",
   "execution_count": 102,
   "metadata": {},
   "outputs": [
    {
     "name": "stdout",
     "output_type": "stream",
     "text": [
      "0\n"
     ]
    }
   ],
   "source": [
    "removed_text_counter  = 0\n",
    "for i in ask_science_df.loc[ask_science_df['title']=='[removed]'].index:\n",
    "    removed_text_counter  += 1\n",
    "print(removed_text_counter )\n",
    "    "
   ]
  },
  {
   "cell_type": "code",
   "execution_count": 23,
   "metadata": {},
   "outputs": [
    {
     "name": "stdout",
     "output_type": "stream",
     "text": [
      "14611\n"
     ]
    }
   ],
   "source": [
    "removed_text_counter = 0\n",
    "for i in ask_science_df.loc[ask_science_df['selftext']=='[removed]'].index:\n",
    "    removed_text_counter  += 1\n",
    "print(removed_text_counter )"
   ]
  },
  {
   "cell_type": "markdown",
   "metadata": {},
   "source": [
    "Next I wrote a function to add a column in each dataframe which classifies where each post came from. This calssifier will be used to train and test my data for modeling. I calssified the ask science subreddit as 0 and  the personal finance reddit as 1."
   ]
  },
  {
   "cell_type": "code",
   "execution_count": 25,
   "metadata": {},
   "outputs": [],
   "source": [
    "#ask science reddit is 0\n",
    "for i in ask_science_df['title']:\n",
    "    ask_science_df['subreddit'] = 0\n"
   ]
  },
  {
   "cell_type": "code",
   "execution_count": 27,
   "metadata": {},
   "outputs": [],
   "source": [
    "#Personal Finance reddit is 1\n",
    "for i in personal_finance_df['title']:\n",
    "    personal_finance_df['subreddit'] = 1"
   ]
  },
  {
   "cell_type": "markdown",
   "metadata": {},
   "source": [
    "Next I stacked the two data frames on top of each other and created on large master data frame. I also dropped the column \"Unnamed: 0\"."
   ]
  },
  {
   "cell_type": "code",
   "execution_count": 29,
   "metadata": {},
   "outputs": [],
   "source": [
    "df_all = pd.concat([ask_science_df, personal_finance_df], axis = 0) "
   ]
  },
  {
   "cell_type": "code",
   "execution_count": 30,
   "metadata": {},
   "outputs": [
    {
     "data": {
      "text/plain": [
       "(29677, 10)"
      ]
     },
     "execution_count": 30,
     "metadata": {},
     "output_type": "execute_result"
    }
   ],
   "source": [
    "df_all.shape"
   ]
  },
  {
   "cell_type": "code",
   "execution_count": 31,
   "metadata": {},
   "outputs": [],
   "source": [
    "df_all.drop(columns = [\"Unnamed: 0\"], inplace = True)"
   ]
  },
  {
   "cell_type": "markdown",
   "metadata": {},
   "source": [
    "PREPROCESSING AND MODELING"
   ]
  },
  {
   "cell_type": "markdown",
   "metadata": {},
   "source": [
    "Set my X and y variables. My X variable is the title text. My y variable is the subreddit that the text came from."
   ]
  },
  {
   "cell_type": "code",
   "execution_count": 140,
   "metadata": {},
   "outputs": [],
   "source": [
    "X = df_all[\"title\"]\n",
    "y = df_all[\"subreddit\"]"
   ]
  },
  {
   "cell_type": "markdown",
   "metadata": {},
   "source": [
    "Next I run my train test split and count vectorizer. Then I fit and transform training data with my count vectorizer. "
   ]
  },
  {
   "cell_type": "code",
   "execution_count": 141,
   "metadata": {},
   "outputs": [],
   "source": [
    "X_train_cvec, X_test_cvec, y_train_cvec, y_test_cvec = train_test_split(X,\n",
    "                                                    y,\n",
    "                                                    test_size=0.33,\n",
    "                                                    stratify=y,\n",
    "                                                    random_state=42)"
   ]
  },
  {
   "cell_type": "code",
   "execution_count": 142,
   "metadata": {},
   "outputs": [],
   "source": [
    "cvec = CountVectorizer(stop_words='english')"
   ]
  },
  {
   "cell_type": "code",
   "execution_count": 143,
   "metadata": {},
   "outputs": [],
   "source": [
    "# Fit the vectorizer on our corpus.\n",
    "X_train_cvec = cvec.fit_transform(X_train_cvec)"
   ]
  },
  {
   "cell_type": "code",
   "execution_count": 144,
   "metadata": {},
   "outputs": [],
   "source": [
    "# Transform the corpus.\n",
    "X_test_cvec = cvec.transform(X_test_cvec)"
   ]
  },
  {
   "cell_type": "markdown",
   "metadata": {},
   "source": [
    "Next I print out the most common words in each dataset and also in the combined dataset. "
   ]
  },
  {
   "cell_type": "code",
   "execution_count": 134,
   "metadata": {},
   "outputs": [],
   "source": [
    "ask_science_cvec= cvec.fit_transform(ask_science_df[\"title\"])"
   ]
  },
  {
   "cell_type": "code",
   "execution_count": 125,
   "metadata": {},
   "outputs": [],
   "source": [
    "personal_finance_cvec= cvec.fit_transform(personal_finance_df[\"title\"])"
   ]
  },
  {
   "cell_type": "code",
   "execution_count": 135,
   "metadata": {},
   "outputs": [
    {
     "data": {
      "image/png": "[encoded data removed]",
      "text/plain": [
       "<Figure size 432x288 with 1 Axes>"
      ]
     },
     "metadata": {
      "needs_background": "light"
     },
     "output_type": "display_data"
    }
   ],
   "source": [
    "# convert training data to dataframe\n",
    "ask_science_df_2 = pd.DataFrame(ask_science_cvec.todense(), \n",
    "                          columns=cvec.get_feature_names())\n",
    "\n",
    "# plot top occuring words\n",
    "ask_science_df_2.sum().sort_values(ascending=False).head(15).plot(kind='barh');"
   ]
  },
  {
   "cell_type": "code",
   "execution_count": 106,
   "metadata": {},
   "outputs": [
    {
     "data": {
      "image/png": "[encoded data removed]",
      "text/plain": [
       "<Figure size 432x288 with 1 Axes>"
      ]
     },
     "metadata": {
      "needs_background": "light"
     },
     "output_type": "display_data"
    }
   ],
   "source": [
    "# convert training data to dataframe\n",
    "personal_finance_df_2 = pd.DataFrame(personal_finance_cvec.todense(), \n",
    "                          columns=cvec.get_feature_names())\n",
    "\n",
    "# plot top occuring words\n",
    "personal_finance_df_2.sum().sort_values(ascending=False).head(15).plot(kind='barh');"
   ]
  },
  {
   "cell_type": "code",
   "execution_count": 146,
   "metadata": {},
   "outputs": [
    {
     "data": {
      "image/png": "[encoded data removed]",
      "text/plain": [
       "<Figure size 432x288 with 1 Axes>"
      ]
     },
     "metadata": {
      "needs_background": "light"
     },
     "output_type": "display_data"
    }
   ],
   "source": [
    "# convert training data to dataframe\n",
    "X_train_df = pd.DataFrame(X_train_cvec.todense(), \n",
    "                          columns=cvec.get_feature_names())\n",
    "\n",
    "# plot top occuring words\n",
    "X_train_df.sum().sort_values(ascending=False).head(10).plot(kind='barh');"
   ]
  },
  {
   "cell_type": "markdown",
   "metadata": {},
   "source": [
    "Next I check the null model values to get my baseline score."
   ]
  },
  {
   "cell_type": "code",
   "execution_count": 38,
   "metadata": {
    "scrolled": true
   },
   "outputs": [
    {
     "data": {
      "text/plain": [
       "0    0.500306\n",
       "1    0.499694\n",
       "Name: subreddit, dtype: float64"
      ]
     },
     "execution_count": 38,
     "metadata": {},
     "output_type": "execute_result"
    }
   ],
   "source": [
    "y_test_cvec.value_counts(normalize=True)"
   ]
  },
  {
   "cell_type": "code",
   "execution_count": 39,
   "metadata": {},
   "outputs": [],
   "source": [
    "X_train, X_test, y_train, y_test = train_test_split(X,\n",
    "                                                    y,\n",
    "                                                    test_size=0.33,\n",
    "                                                    stratify=y,\n",
    "                                                    random_state=42)"
   ]
  },
  {
   "cell_type": "markdown",
   "metadata": {},
   "source": [
    "My first model is my Niave Bayes model. I set up a pipeline and grid search to find optimized values for my model. I will fit my model and then score my model based on the accuracy score specifically. I will also print out other supporting statistics to contextualize my model's predictive capabilities. "
   ]
  },
  {
   "cell_type": "code",
   "execution_count": 40,
   "metadata": {},
   "outputs": [],
   "source": [
    "pipe = Pipeline([\n",
    "    ('cvec_2', CountVectorizer()),\n",
    "    ('nb', MultinomialNB())\n",
    "])"
   ]
  },
  {
   "cell_type": "code",
   "execution_count": 41,
   "metadata": {},
   "outputs": [],
   "source": [
    "pipe_params = {\n",
    "    'cvec_2__max_features': [2000, 3000, 4000, 5000],\n",
    "    'cvec_2__min_df': [2, 3],\n",
    "    'cvec_2__max_df': [.9, .95],\n",
    "    'cvec_2__ngram_range': [(1,1), (1,2)]\n",
    "}"
   ]
  },
  {
   "cell_type": "code",
   "execution_count": 42,
   "metadata": {},
   "outputs": [],
   "source": [
    "# Instantiate GridSearchCV.\n",
    "\n",
    "bayes_model = GridSearchCV(pipe, # what object are we optimizing?\n",
    "                  param_grid=pipe_params, # what parameters values are we searching?\n",
    "                  cv=5, verbose = 1) # 5-fold cross-validation."
   ]
  },
  {
   "cell_type": "code",
   "execution_count": 43,
   "metadata": {},
   "outputs": [
    {
     "name": "stdout",
     "output_type": "stream",
     "text": [
      "Fitting 5 folds for each of 32 candidates, totalling 160 fits\n"
     ]
    },
    {
     "name": "stderr",
     "output_type": "stream",
     "text": [
      "[Parallel(n_jobs=1)]: Using backend SequentialBackend with 1 concurrent workers.\n",
      "[Parallel(n_jobs=1)]: Done 160 out of 160 | elapsed:  1.2min finished\n"
     ]
    },
    {
     "data": {
      "text/plain": [
       "GridSearchCV(cv=5,\n",
       "             estimator=Pipeline(steps=[('cvec_2', CountVectorizer()),\n",
       "                                       ('nb', MultinomialNB())]),\n",
       "             param_grid={'cvec_2__max_df': [0.9, 0.95],\n",
       "                         'cvec_2__max_features': [2000, 3000, 4000, 5000],\n",
       "                         'cvec_2__min_df': [2, 3],\n",
       "                         'cvec_2__ngram_range': [(1, 1), (1, 2)]},\n",
       "             verbose=1)"
      ]
     },
     "execution_count": 43,
     "metadata": {},
     "output_type": "execute_result"
    }
   ],
   "source": [
    "bayes_model.fit(X_train, y_train)"
   ]
  },
  {
   "cell_type": "code",
   "execution_count": 44,
   "metadata": {},
   "outputs": [
    {
     "data": {
      "text/plain": [
       "(0.9724890610068903, 0.9714110680008168)"
      ]
     },
     "execution_count": 44,
     "metadata": {},
     "output_type": "execute_result"
    }
   ],
   "source": [
    "bayes_model.score(X_train, y_train), bayes_model.score(X_test, y_test)"
   ]
  },
  {
   "cell_type": "code",
   "execution_count": 45,
   "metadata": {},
   "outputs": [],
   "source": [
    "preds_bayes = bayes_model.predict(X_test)\n"
   ]
  },
  {
   "cell_type": "code",
   "execution_count": 46,
   "metadata": {},
   "outputs": [],
   "source": [
    "tn, fp, fn, tp = confusion_matrix(y_test, preds_bayes).ravel()"
   ]
  },
  {
   "cell_type": "code",
   "execution_count": 47,
   "metadata": {},
   "outputs": [
    {
     "data": {
      "image/png": "[encoded data removed]",
      "text/plain": [
       "<Figure size 432x288 with 2 Axes>"
      ]
     },
     "metadata": {
      "needs_background": "light"
     },
     "output_type": "display_data"
    }
   ],
   "source": [
    "plot_confusion_matrix(bayes_model, X_test, y_test, cmap='Blues', values_format='d');"
   ]
  },
  {
   "cell_type": "code",
   "execution_count": 48,
   "metadata": {},
   "outputs": [
    {
     "name": "stdout",
     "output_type": "stream",
     "text": [
      "Accuracy: 0.9714110680008168\n",
      "Specificity: 0.9685714285714285\n",
      "Precision: 0.9687119057293783\n",
      "Sensitivity: 0.9742541888026155\n",
      "TPR: 0.9742541888026155\n",
      "FPR: 0.03142857142857143\n",
      "F1: 0.9714751426242869\n"
     ]
    },
    {
     "data": {
      "text/plain": [
       "Pipeline(steps=[('cvec_2',\n",
       "                 CountVectorizer(max_df=0.9, max_features=5000, min_df=3)),\n",
       "                ('nb', MultinomialNB())])"
      ]
     },
     "execution_count": 48,
     "metadata": {},
     "output_type": "execute_result"
    }
   ],
   "source": [
    "acc = (tn + tp)/(tn+tp+fn+fp)\n",
    "print('Accuracy:', acc)\n",
    "spec = tn / (tn + fp)\n",
    "print('Specificity:', spec)\n",
    "prec = tp / (tp+fp) # precision_score(y_test, preds)\n",
    "print('Precision:', prec)\n",
    "sens = tp/(tp+fn) # recall_score(y_test,preds)\n",
    "print('Sensitivity:', sens)\n",
    "tpr = sens\n",
    "print('TPR:', sens)\n",
    "fpr = fp / (fp + tn)\n",
    "print('FPR:', fpr)\n",
    "f1 = 2*(prec*sens)/(prec+sens) # f1_score(y_test, preds)\n",
    "print('F1:', f1)\n",
    "bayes_model.best_params_\n",
    "bayes_model.best_estimator_\n",
    "#cite cooper on this codebay"
   ]
  },
  {
   "cell_type": "markdown",
   "metadata": {},
   "source": [
    "My second model is an Ada Boost Classifier. I set up a grid search to find optimized values for my model. I will fit my model and then score my model based on the accuracy score specifically. I will also print out other supporting statistics to contextualize my model's predictive capabilities. "
   ]
  },
  {
   "cell_type": "code",
   "execution_count": 49,
   "metadata": {},
   "outputs": [],
   "source": [
    "ada = AdaBoostClassifier(base_estimator = DecisionTreeClassifier()\n",
    ")\n",
    "\n",
    "ada_params = {\"n_estimators\": [50,100],\n",
    "              \"base_estimator__max_depth\": [1,2],\n",
    "              \"learning_rate\" : [0.9, 1]}\n",
    "\n",
    "# instantiate gridsearch object\n",
    "ada_model = GridSearchCV(ada,                      # model object\n",
    "                  param_grid= ada_params,   # hyper parameters\n",
    "                  cv = 3)                   # cv is number of folds\n",
    "\n"
   ]
  },
  {
   "cell_type": "code",
   "execution_count": 50,
   "metadata": {},
   "outputs": [
    {
     "data": {
      "text/plain": [
       "GridSearchCV(cv=3,\n",
       "             estimator=AdaBoostClassifier(base_estimator=DecisionTreeClassifier()),\n",
       "             param_grid={'base_estimator__max_depth': [1, 2],\n",
       "                         'learning_rate': [0.9, 1], 'n_estimators': [50, 100]})"
      ]
     },
     "execution_count": 50,
     "metadata": {},
     "output_type": "execute_result"
    }
   ],
   "source": [
    "ada_model.fit(X_train_cvec, y_train_cvec)"
   ]
  },
  {
   "cell_type": "code",
   "execution_count": 51,
   "metadata": {},
   "outputs": [
    {
     "data": {
      "text/plain": [
       "(0.9262686717296182, 0.9232182969164795)"
      ]
     },
     "execution_count": 51,
     "metadata": {},
     "output_type": "execute_result"
    }
   ],
   "source": [
    "ada_model.score(X_train_cvec, y_train_cvec), ada_model.score(X_test_cvec, y_test_cvec)"
   ]
  },
  {
   "cell_type": "code",
   "execution_count": 52,
   "metadata": {},
   "outputs": [],
   "source": [
    "preds_ada = ada_model.predict(X_test_cvec)"
   ]
  },
  {
   "cell_type": "code",
   "execution_count": 53,
   "metadata": {},
   "outputs": [],
   "source": [
    "tn, fp, fn, tp = confusion_matrix(y_test_cvec, preds_ada).ravel()"
   ]
  },
  {
   "cell_type": "code",
   "execution_count": 54,
   "metadata": {},
   "outputs": [
    {
     "data": {
      "image/png": "[encoded data removed]",
      "text/plain": [
       "<Figure size 432x288 with 2 Axes>"
      ]
     },
     "metadata": {
      "needs_background": "light"
     },
     "output_type": "display_data"
    }
   ],
   "source": [
    "plot_confusion_matrix(ada_model, X_test_cvec, y_test_cvec, cmap='Blues', values_format='d');"
   ]
  },
  {
   "cell_type": "code",
   "execution_count": 55,
   "metadata": {},
   "outputs": [
    {
     "name": "stdout",
     "output_type": "stream",
     "text": [
      "Accuracy: 0.9232182969164795\n",
      "Specificity: 0.9663265306122449\n",
      "Precision: 0.9631037567084079\n",
      "Sensitivity: 0.8800572129137719\n",
      "TPR: 0.8800572129137719\n",
      "FPR: 0.0336734693877551\n",
      "F1: 0.9197095878710229\n"
     ]
    },
    {
     "data": {
      "text/plain": [
       "AdaBoostClassifier(base_estimator=DecisionTreeClassifier(max_depth=2),\n",
       "                   learning_rate=1, n_estimators=100)"
      ]
     },
     "execution_count": 55,
     "metadata": {},
     "output_type": "execute_result"
    }
   ],
   "source": [
    "acc = (tn + tp)/(tn+tp+fn+fp)\n",
    "print('Accuracy:', acc)\n",
    "spec = tn / (tn + fp)\n",
    "print('Specificity:', spec)\n",
    "prec = tp / (tp+fp) # precision_score(y_test, preds)\n",
    "print('Precision:', prec)\n",
    "sens = tp/(tp+fn) # recall_score(y_test,preds)\n",
    "print('Sensitivity:', sens)\n",
    "tpr = sens\n",
    "print('TPR:', sens)\n",
    "fpr = fp / (fp + tn)\n",
    "print('FPR:', fpr)\n",
    "f1 = 2*(prec*sens)/(prec+sens) # f1_score(y_test, preds)\n",
    "print('F1:', f1)\n",
    "ada_model.best_params_\n",
    "ada_model.best_estimator_\n",
    "#cite cooper on this codebay"
   ]
  },
  {
   "cell_type": "markdown",
   "metadata": {},
   "source": [
    "My third model is a Gradient Boost Classifier. I set up a grid search to find optimized values for my model. I will fit my model and then score my model based on the accuracy score specifically. I will also print out other supporting statistics to contextualize my model's predictive capabilities. "
   ]
  },
  {
   "cell_type": "code",
   "execution_count": 56,
   "metadata": {},
   "outputs": [
    {
     "data": {
      "text/plain": [
       "GridSearchCV(cv=3, estimator=GradientBoostingClassifier(),\n",
       "             param_grid={'learning_rate': [0.08, 0.1, 0.12],\n",
       "                         'max_depth': [2, 3, 4],\n",
       "                         'n_estimators': [100, 125, 150]})"
      ]
     },
     "execution_count": 56,
     "metadata": {},
     "output_type": "execute_result"
    }
   ],
   "source": [
    "# GBM model\n",
    "# instantiate\n",
    "gboost = GradientBoostingClassifier()  # NOTE: the base learner is ALWAYS a decision tree (default)\n",
    "# grid for Grid search\n",
    "gboost_params = {\"max_depth\": [2,3,4],\n",
    "                 \"n_estimators\": [100, 125, 150],\n",
    "                 \"learning_rate\": [0.08, 0.1, 0.12]}\n",
    "# instantiate the grid search object\n",
    "gradient_boost_model = GridSearchCV(gboost, \n",
    "                     param_grid = gboost_params, \n",
    "                     cv=3)\n",
    "gradient_boost_model.fit(X_train_cvec, y_train_cvec)"
   ]
  },
  {
   "cell_type": "code",
   "execution_count": 57,
   "metadata": {},
   "outputs": [
    {
     "data": {
      "text/plain": [
       "(0.8987074385153145, 0.9004492546457015)"
      ]
     },
     "execution_count": 57,
     "metadata": {},
     "output_type": "execute_result"
    }
   ],
   "source": [
    "gradient_boost_model.score(X_train_cvec, y_train_cvec), gradient_boost_model.score(X_test_cvec, y_test_cvec)"
   ]
  },
  {
   "cell_type": "code",
   "execution_count": 58,
   "metadata": {},
   "outputs": [],
   "source": [
    "preds_gradient_boost = gradient_boost_model.predict(X_test_cvec)"
   ]
  },
  {
   "cell_type": "code",
   "execution_count": 59,
   "metadata": {},
   "outputs": [],
   "source": [
    "tn, fp, fn, tp = confusion_matrix(y_test_cvec, preds_gradient_boost).ravel()"
   ]
  },
  {
   "cell_type": "code",
   "execution_count": 60,
   "metadata": {},
   "outputs": [
    {
     "data": {
      "image/png": "[encoded data removed]",
      "text/plain": [
       "<Figure size 432x288 with 2 Axes>"
      ]
     },
     "metadata": {
      "needs_background": "light"
     },
     "output_type": "display_data"
    }
   ],
   "source": [
    "plot_confusion_matrix(gradient_boost_model, X_test_cvec, y_test_cvec, cmap='Blues', values_format='d');"
   ]
  },
  {
   "cell_type": "code",
   "execution_count": 61,
   "metadata": {},
   "outputs": [
    {
     "name": "stdout",
     "output_type": "stream",
     "text": [
      "Accuracy: 0.9004492546457015\n",
      "Specificity: 0.9842857142857143\n",
      "Precision: 0.9810950159587528\n",
      "Sensitivity: 0.81651001225991\n",
      "TPR: 0.81651001225991\n",
      "FPR: 0.015714285714285715\n",
      "F1: 0.8912679826028773\n"
     ]
    },
    {
     "data": {
      "text/plain": [
       "AdaBoostClassifier(base_estimator=DecisionTreeClassifier(max_depth=2),\n",
       "                   learning_rate=1, n_estimators=100)"
      ]
     },
     "execution_count": 61,
     "metadata": {},
     "output_type": "execute_result"
    }
   ],
   "source": [
    "acc = (tn + tp)/(tn+tp+fn+fp)\n",
    "print('Accuracy:', acc)\n",
    "spec = tn / (tn + fp)\n",
    "print('Specificity:', spec)\n",
    "prec = tp / (tp+fp) # precision_score(y_test, preds)\n",
    "print('Precision:', prec)\n",
    "sens = tp/(tp+fn) # recall_score(y_test,preds)\n",
    "print('Sensitivity:', sens)\n",
    "tpr = sens\n",
    "print('TPR:', sens)\n",
    "fpr = fp / (fp + tn)\n",
    "print('FPR:', fpr)\n",
    "f1 = 2*(prec*sens)/(prec+sens) # f1_score(y_test, preds)\n",
    "print('F1:', f1)\n",
    "ada_model.best_params_\n",
    "ada_model.best_estimator_"
   ]
  },
  {
   "cell_type": "markdown",
   "metadata": {},
   "source": [
    "My fourth model is a second Niave Bayes model with new parameters. I set up a pipeline and grid search to find optimized values for my model. I will fit my model and then score my model based on the accuracy score specifically. I will also print out other supporting statistics to contextualize my model's predictive capabilities. "
   ]
  },
  {
   "cell_type": "code",
   "execution_count": 62,
   "metadata": {},
   "outputs": [],
   "source": [
    "pipe_tvec = Pipeline([\n",
    "    ('tvec', TfidfVectorizer()),\n",
    "    ('nb', MultinomialNB())\n",
    "])"
   ]
  },
  {
   "cell_type": "code",
   "execution_count": 63,
   "metadata": {},
   "outputs": [],
   "source": [
    "\n",
    "# Search over the following values of hyperparameters:\n",
    "# Maximum number of features fit: 2000, 3000, 4000, 5000\n",
    "# No stop words and english stop words\n",
    "# Check (individual tokens) and also check (individual tokens and 2-grams).\n",
    "\n",
    "pipe_tvec_params = {\n",
    "    'tvec__max_features': [2_000, 3_000, 4_000, 5_000],\n",
    "    'tvec__stop_words': [None, 'english'],\n",
    "    'tvec__ngram_range': [(1,1), (1,2)]\n",
    "}"
   ]
  },
  {
   "cell_type": "code",
   "execution_count": 64,
   "metadata": {},
   "outputs": [],
   "source": [
    "# Instantiate GridSearchCV.\n",
    "\n",
    "tvec_model = GridSearchCV(pipe_tvec, # what object are we optimizing?\n",
    "                        param_grid = pipe_tvec_params, # what parameters values are we searching?\n",
    "                        cv=5) # 5-fold cross-validation."
   ]
  },
  {
   "cell_type": "code",
   "execution_count": 65,
   "metadata": {},
   "outputs": [
    {
     "data": {
      "text/plain": [
       "GridSearchCV(cv=5,\n",
       "             estimator=Pipeline(steps=[('tvec', TfidfVectorizer()),\n",
       "                                       ('nb', MultinomialNB())]),\n",
       "             param_grid={'tvec__max_features': [2000, 3000, 4000, 5000],\n",
       "                         'tvec__ngram_range': [(1, 1), (1, 2)],\n",
       "                         'tvec__stop_words': [None, 'english']})"
      ]
     },
     "execution_count": 65,
     "metadata": {},
     "output_type": "execute_result"
    }
   ],
   "source": [
    "tvec_model.fit(X_train, y_train)"
   ]
  },
  {
   "cell_type": "code",
   "execution_count": 147,
   "metadata": {},
   "outputs": [
    {
     "data": {
      "text/plain": [
       "(0.9756073027209173, 0.9715131713293853)"
      ]
     },
     "execution_count": 147,
     "metadata": {},
     "output_type": "execute_result"
    }
   ],
   "source": [
    "tvec_model.score(X_train, y_train), tvec_model.score(X_test, y_test)"
   ]
  },
  {
   "cell_type": "code",
   "execution_count": 67,
   "metadata": {},
   "outputs": [],
   "source": [
    "preds_tvec = tvec_model.predict(X_test)\n"
   ]
  },
  {
   "cell_type": "code",
   "execution_count": 68,
   "metadata": {},
   "outputs": [],
   "source": [
    "tn, fp, fn, tp = confusion_matrix(y_test, preds_tvec).ravel()"
   ]
  },
  {
   "cell_type": "code",
   "execution_count": 69,
   "metadata": {},
   "outputs": [
    {
     "data": {
      "image/png": "[encoded data removed]",
      "text/plain": [
       "<Figure size 432x288 with 2 Axes>"
      ]
     },
     "metadata": {
      "needs_background": "light"
     },
     "output_type": "display_data"
    }
   ],
   "source": [
    "plot_confusion_matrix(tvec_model, X_test, y_test, cmap='Blues', values_format='d');"
   ]
  },
  {
   "cell_type": "code",
   "execution_count": 70,
   "metadata": {},
   "outputs": [
    {
     "name": "stdout",
     "output_type": "stream",
     "text": [
      "Accuracy: 0.9715131713293853\n",
      "Specificity: 0.9673469387755103\n",
      "Precision: 0.9675785207700102\n",
      "Sensitivity: 0.9756845116469146\n",
      "TPR: 0.9756845116469146\n",
      "FPR: 0.0326530612244898\n",
      "F1: 0.9716146098280599\n"
     ]
    },
    {
     "data": {
      "text/plain": [
       "AdaBoostClassifier(base_estimator=DecisionTreeClassifier(max_depth=2),\n",
       "                   learning_rate=1, n_estimators=100)"
      ]
     },
     "execution_count": 70,
     "metadata": {},
     "output_type": "execute_result"
    }
   ],
   "source": [
    "acc = (tn + tp)/(tn+tp+fn+fp)\n",
    "print('Accuracy:', acc)\n",
    "spec = tn / (tn + fp)\n",
    "print('Specificity:', spec)\n",
    "prec = tp / (tp+fp) # precision_score(y_test, preds)\n",
    "print('Precision:', prec)\n",
    "sens = tp/(tp+fn) # recall_score(y_test,preds)\n",
    "print('Sensitivity:', sens)\n",
    "tpr = sens\n",
    "print('TPR:', sens)\n",
    "fpr = fp / (fp + tn)\n",
    "print('FPR:', fpr)\n",
    "f1 = 2*(prec*sens)/(prec+sens) # f1_score(y_test, preds)\n",
    "print('F1:', f1)\n",
    "ada_model.best_params_\n",
    "ada_model.best_estimator_"
   ]
  },
  {
   "cell_type": "markdown",
   "metadata": {},
   "source": [
    "My final model is an SVC Model. I set up a grid search to find optimized values for my model. I will fit my model and then score my model based on the accuracy score specifically. I will also print out other supporting statistics to contextualize my model's predictive capabilities. "
   ]
  },
  {
   "cell_type": "code",
   "execution_count": 96,
   "metadata": {},
   "outputs": [],
   "source": [
    "SVC_params= {\"C\": [1, 10, 100],\n",
    "                 \"kernel\": [\"rbf\", \"poly\"],\n",
    "                 \"gamma\": [\"scale\", \"auto\"]\n",
    "}"
   ]
  },
  {
   "cell_type": "code",
   "execution_count": 97,
   "metadata": {},
   "outputs": [],
   "source": [
    "svc_model = GridSearchCV(SVC(), # what object are we optimizing?\n",
    "                        param_grid = SVC_params, # what parameters values are we searching?\n",
    "                        cv=5) # 5-fold cross-validation."
   ]
  },
  {
   "cell_type": "code",
   "execution_count": 83,
   "metadata": {},
   "outputs": [],
   "source": [
    "# Instantiate SVM.\n",
    "svc_test_model = SVC(\n",
    "    C = 10,\n",
    "    kernel = [\"rbf\"],\n",
    "    gamma = \"scale\"\n",
    ")\n",
    "\n",
    "# Fit on training data.\n",
    "#svc_model.fit(X_train, y_train)\n",
    "\n",
    "# Evaluate model.\n",
    "#accuracy_score(y_test, svc.predict(X_test))"
   ]
  },
  {
   "cell_type": "code",
   "execution_count": 98,
   "metadata": {},
   "outputs": [
    {
     "data": {
      "text/plain": [
       "GridSearchCV(cv=5, estimator=SVC(),\n",
       "             param_grid={'C': [1, 10, 100], 'gamma': ['scale', 'auto'],\n",
       "                         'kernel': ['rbf', 'poly']})"
      ]
     },
     "execution_count": 98,
     "metadata": {},
     "output_type": "execute_result"
    }
   ],
   "source": [
    "svc_model.fit(X_train_cvec, y_train_cvec)"
   ]
  },
  {
   "cell_type": "code",
   "execution_count": 99,
   "metadata": {},
   "outputs": [
    {
     "data": {
      "text/plain": [
       "(0.9988935271337324, 0.959464978558301)"
      ]
     },
     "execution_count": 99,
     "metadata": {},
     "output_type": "execute_result"
    }
   ],
   "source": [
    "svc_model.score(X_train_cvec, y_train_cvec), svc_model.score(X_test_cvec, y_test_cvec)"
   ]
  },
  {
   "cell_type": "code",
   "execution_count": 101,
   "metadata": {},
   "outputs": [
    {
     "data": {
      "text/plain": [
       "<sklearn.metrics._plot.confusion_matrix.ConfusionMatrixDisplay at 0x7fa1c7c67e80>"
      ]
     },
     "execution_count": 101,
     "metadata": {},
     "output_type": "execute_result"
    },
    {
     "data": {
      "image/png": "[encoded data removed]",
      "text/plain": [
       "<Figure size 432x288 with 2 Axes>"
      ]
     },
     "metadata": {
      "needs_background": "light"
     },
     "output_type": "display_data"
    }
   ],
   "source": [
    "plot_confusion_matrix(svc_model, X_test_cvec, y_test_cvec, cmap='Blues', values_format='d')"
   ]
  },
  {
   "cell_type": "markdown",
   "metadata": {},
   "source": [
    "CONCLUSIONS AND RECOMENDATIONS:"
   ]
  },
  {
   "cell_type": "markdown",
   "metadata": {},
   "source": [
    "In this project I found that we can use natural language processing to determine if a post on reddit came from the ask science subreddit or the personal finance subreddit with 97.1% accuracy on unseen data. \n",
    "\n",
    "I found the most accurate model for classifying a posts source to be a Naive Bayes model.\n",
    "\n",
    "For companies trying monitor social media to identify which topics are trending for a given focus group, I recommend using a Naive Bayes model for classification\n",
    "If a Naive Bayes model is not getting an ideal accuracy score, I recommend also trying the runner up model, SVC.\n"
   ]
  }
 ],
 "metadata": {
  "kernelspec": {
   "display_name": "Python 3",
   "language": "python",
   "name": "python3"
  },
  "language_info": {
   "codemirror_mode": {
    "name": "ipython",
    "version": 3
   },
   "file_extension": ".py",
   "mimetype": "text/x-python",
   "name": "python",
   "nbconvert_exporter": "python",
   "pygments_lexer": "ipython3",
   "version": "3.8.5"
  }
 },
 "nbformat": 4,
 "nbformat_minor": 4
}
